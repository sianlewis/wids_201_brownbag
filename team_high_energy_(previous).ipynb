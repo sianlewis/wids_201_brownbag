{
  "nbformat": 4,
  "nbformat_minor": 0,
  "metadata": {
    "colab": {
      "name": "team_high_energy (previous).ipynb",
      "version": "0.3.2",
      "provenance": [],
      "collapsed_sections": [
        "3SJcZ9NUFnDm",
        "pKmBwIWHFuAH",
        "TT8Nwt5REnIv",
        "SUfcXAWvEsn9",
        "OMg6fjCpF1Ku",
        "_TJ5RO3cF7ho"
      ],
      "include_colab_link": true
    },
    "kernelspec": {
      "name": "python3",
      "display_name": "Python 3"
    }
  },
  "cells": [
    {
      "cell_type": "markdown",
      "metadata": {
        "id": "view-in-github",
        "colab_type": "text"
      },
      "source": [
        "<a href=\"https://colab.research.google.com/github/sianlewis/wids_201_brownbag/blob/master/team_high_energy_(previous).ipynb\" target=\"_parent\"><img src=\"https://colab.research.google.com/assets/colab-badge.svg\" alt=\"Open In Colab\"/></a>"
      ]
    },
    {
      "metadata": {
        "id": "2URjf0_REx_A",
        "colab_type": "text"
      },
      "cell_type": "markdown",
      "source": [
        "# Import and Functions"
      ]
    },
    {
      "metadata": {
        "id": "fbSICfxtFKAN",
        "colab_type": "code",
        "outputId": "25cca362-90e8-4050-ed4a-db8e0a0b1316",
        "colab": {
          "base_uri": "https://localhost:8080/",
          "height": 675
        }
      },
      "cell_type": "code",
      "source": [
        "import pandas as pd \n",
        "import numpy as np\n",
        "import seaborn as sns\n",
        "import requests\n",
        "from bs4 import BeautifulSoup\n",
        "import pandas_profiling\n",
        "import sklearn\n",
        "import boto3\n",
        "from boto3 import session\n",
        "\n",
        "from sklearn.svm import SVC\n",
        "from sklearn.model_selection import GridSearchCV\n",
        "#from sklearn.cross_validation import cross_val_score, cross_val_predict, train_test_split, KFold, StratifiedKFold\n",
        "from sklearn import datasets, linear_model, metrics, preprocessing, pipeline\n",
        "from sklearn.pipeline import make_union, make_pipeline, Pipeline\n",
        "from sklearn.linear_model import LogisticRegression\n",
        "from sklearn.feature_extraction.text import CountVectorizer, TfidfVectorizer\n",
        "from sklearn.tree import DecisionTreeClassifier\n",
        "from sklearn.ensemble import RandomForestClassifier, ExtraTreesClassifier, BaggingClassifier\n",
        "from sklearn.preprocessing import LabelEncoder\n",
        "from sklearn.metrics import mean_squared_error, classification_report, confusion_matrix, accuracy_score, r2_score\n",
        "from sklearn.neighbors import KNeighborsClassifier\n",
        "\n",
        "import scipy.stats as stats\n",
        "import statsmodels.api as sm\n",
        "import statsmodels.formula.api as smf\n",
        "import patsy \n",
        "\n",
        "import matplotlib.pyplot as plt \n",
        "%matplotlib inline\n",
        "import seaborn as sns\n",
        "import plotly\n",
        "\n",
        "import re\n",
        "import sys\n",
        "import datetime as dt\n",
        "import time\n",
        "from time import sleep\n",
        "\n",
        "\n",
        "!pip install fancyimpute\n",
        "import fancyimpute\n",
        "# documentation: https://pypi.org/project/fancyimpute/"
      ],
      "execution_count": 0,
      "outputs": [
        {
          "output_type": "stream",
          "text": [
            "/usr/local/lib/python3.6/dist-packages/statsmodels/compat/pandas.py:56: FutureWarning: The pandas.core.datetools module is deprecated and will be removed in a future version. Please use the pandas.tseries module instead.\n",
            "  from pandas.core import datetools\n"
          ],
          "name": "stderr"
        },
        {
          "output_type": "stream",
          "text": [
            "Requirement already satisfied: fancyimpute in /usr/local/lib/python3.6/dist-packages (0.4.2)\n",
            "Requirement already satisfied: six in /usr/local/lib/python3.6/dist-packages (from fancyimpute) (1.11.0)\n",
            "Requirement already satisfied: knnimpute in /usr/local/lib/python3.6/dist-packages (from fancyimpute) (0.1.0)\n",
            "Requirement already satisfied: numpy>=1.10 in /usr/local/lib/python3.6/dist-packages (from fancyimpute) (1.14.6)\n",
            "Requirement already satisfied: scipy in /usr/local/lib/python3.6/dist-packages (from fancyimpute) (1.1.0)\n",
            "Requirement already satisfied: cvxpy>=1.0.6 in /usr/local/lib/python3.6/dist-packages (from fancyimpute) (1.0.15)\n",
            "Requirement already satisfied: scikit-learn>=0.19.1 in /usr/local/lib/python3.6/dist-packages (from fancyimpute) (0.20.2)\n",
            "Requirement already satisfied: keras>=2.0.0 in /usr/local/lib/python3.6/dist-packages (from fancyimpute) (2.2.4)\n",
            "Requirement already satisfied: np_utils in /usr/local/lib/python3.6/dist-packages (from fancyimpute) (0.5.9.0)\n",
            "Requirement already satisfied: tensorflow in /usr/local/lib/python3.6/dist-packages (from fancyimpute) (1.13.0rc1)\n",
            "Requirement already satisfied: osqp in /usr/local/lib/python3.6/dist-packages (from cvxpy>=1.0.6->fancyimpute) (0.5.0)\n",
            "Requirement already satisfied: ecos>=2 in /usr/local/lib/python3.6/dist-packages (from cvxpy>=1.0.6->fancyimpute) (2.0.7.post1)\n",
            "Requirement already satisfied: scs>=1.1.3 in /usr/local/lib/python3.6/dist-packages (from cvxpy>=1.0.6->fancyimpute) (2.0.2)\n",
            "Requirement already satisfied: multiprocess in /usr/local/lib/python3.6/dist-packages (from cvxpy>=1.0.6->fancyimpute) (0.70.7)\n",
            "Requirement already satisfied: fastcache in /usr/local/lib/python3.6/dist-packages (from cvxpy>=1.0.6->fancyimpute) (1.0.2)\n",
            "Requirement already satisfied: keras-applications>=1.0.6 in /usr/local/lib/python3.6/dist-packages (from keras>=2.0.0->fancyimpute) (1.0.7)\n",
            "Requirement already satisfied: pyyaml in /usr/local/lib/python3.6/dist-packages (from keras>=2.0.0->fancyimpute) (3.13)\n",
            "Requirement already satisfied: h5py in /usr/local/lib/python3.6/dist-packages (from keras>=2.0.0->fancyimpute) (2.8.0)\n",
            "Requirement already satisfied: keras-preprocessing>=1.0.5 in /usr/local/lib/python3.6/dist-packages (from keras>=2.0.0->fancyimpute) (1.0.9)\n",
            "Requirement already satisfied: future>=0.16 in /usr/local/lib/python3.6/dist-packages (from np_utils->fancyimpute) (0.16.0)\n",
            "Requirement already satisfied: protobuf>=3.6.1 in /usr/local/lib/python3.6/dist-packages (from tensorflow->fancyimpute) (3.6.1)\n",
            "Requirement already satisfied: absl-py>=0.1.6 in /usr/local/lib/python3.6/dist-packages (from tensorflow->fancyimpute) (0.7.0)\n",
            "Requirement already satisfied: gast>=0.2.0 in /usr/local/lib/python3.6/dist-packages (from tensorflow->fancyimpute) (0.2.2)\n",
            "Requirement already satisfied: grpcio>=1.8.6 in /usr/local/lib/python3.6/dist-packages (from tensorflow->fancyimpute) (1.15.0)\n",
            "Requirement already satisfied: termcolor>=1.1.0 in /usr/local/lib/python3.6/dist-packages (from tensorflow->fancyimpute) (1.1.0)\n",
            "Requirement already satisfied: tensorflow-estimator<1.14.0rc0,>=1.13.0rc0 in /usr/local/lib/python3.6/dist-packages (from tensorflow->fancyimpute) (1.13.0rc0)\n",
            "Requirement already satisfied: tensorboard<1.13.0,>=1.12.0 in /usr/local/lib/python3.6/dist-packages (from tensorflow->fancyimpute) (1.12.2)\n",
            "Requirement already satisfied: wheel>=0.26 in /usr/local/lib/python3.6/dist-packages (from tensorflow->fancyimpute) (0.33.0)\n",
            "Requirement already satisfied: astor>=0.6.0 in /usr/local/lib/python3.6/dist-packages (from tensorflow->fancyimpute) (0.7.1)\n",
            "Requirement already satisfied: dill>=0.2.9 in /usr/local/lib/python3.6/dist-packages (from multiprocess->cvxpy>=1.0.6->fancyimpute) (0.2.9)\n",
            "Requirement already satisfied: setuptools in /usr/local/lib/python3.6/dist-packages (from protobuf>=3.6.1->tensorflow->fancyimpute) (40.8.0)\n",
            "Requirement already satisfied: mock>=2.0.0 in /usr/local/lib/python3.6/dist-packages (from tensorflow-estimator<1.14.0rc0,>=1.13.0rc0->tensorflow->fancyimpute) (2.0.0)\n",
            "Requirement already satisfied: markdown>=2.6.8 in /usr/local/lib/python3.6/dist-packages (from tensorboard<1.13.0,>=1.12.0->tensorflow->fancyimpute) (3.0.1)\n",
            "Requirement already satisfied: werkzeug>=0.11.10 in /usr/local/lib/python3.6/dist-packages (from tensorboard<1.13.0,>=1.12.0->tensorflow->fancyimpute) (0.14.1)\n",
            "Requirement already satisfied: pbr>=0.11 in /usr/local/lib/python3.6/dist-packages (from mock>=2.0.0->tensorflow-estimator<1.14.0rc0,>=1.13.0rc0->tensorflow->fancyimpute) (5.1.2)\n"
          ],
          "name": "stdout"
        },
        {
          "output_type": "stream",
          "text": [
            "Using TensorFlow backend.\n"
          ],
          "name": "stderr"
        }
      ]
    },
    {
      "metadata": {
        "id": "50ktrb8_N-n4",
        "colab_type": "code",
        "colab": {}
      },
      "cell_type": "code",
      "source": [
        "#Exploratory Data Analysis\n",
        "\n",
        "def get_variable_category(series):\n",
        "    unique_count = series.nunique(dropna=False)\n",
        "    total_count = len(series)\n",
        "    if pd.api.types.is_numeric_dtype(series):\n",
        "        return 'Numerical'\n",
        "    elif pd.api.types.is_datetime64_dtype(series):\n",
        "        return 'Date'\n",
        "    elif unique_count==total_count:\n",
        "        return 'Text (Unique)'\n",
        "    else:\n",
        "        return 'Categorical'\n",
        "\n",
        "def print_variable_categories(data):\n",
        "    for column_name in data.columns:\n",
        "        print(column_name, ': ', get_variable_category(data[column_name]))\n",
        "        \n",
        "def datainspect(dataframe):\n",
        "    '''Inspect data'''\n",
        "    print('ROWS AND COLUMNS: \\n', dataframe.shape,'\\n')\n",
        "    print('MISSING VALUES: \\n', dataframe.isnull().sum(),'\\n')\n",
        "    print('DUPLICATE ROWS \\n', dataframe.duplicated().sum(),'\\n') \n",
        "    print('DATA TYPES: \\n', dataframe.dtypes,\"\\n\")\n",
        "    print('DATAFRAME DESCRIBE: \\n \\n', dataframe.describe(include='all'),'\\n')\n",
        "    print('UNIQUE VALUES:')\n",
        "    for item in dataframe:\n",
        "        print(item, dataframe[item].nunique())\n",
        "    print('\\n')\n",
        "    print('VARIABLE CATEGORIES:', '\\n' )\n",
        "    print(print_variable_categories(dataframe))\n"
      ],
      "execution_count": 0,
      "outputs": []
    },
    {
      "metadata": {
        "id": "1OqhjPt_Rkix",
        "colab_type": "code",
        "outputId": "983459e0-fbde-450f-e34a-31363e1ccef5",
        "colab": {
          "base_uri": "https://localhost:8080/",
          "height": 51
        }
      },
      "cell_type": "code",
      "source": [
        "# Code to read csv file into Colaboratory:\n",
        "!pip install -U -q PyDrive\n",
        "from pydrive.auth import GoogleAuth\n",
        "from pydrive.drive import GoogleDrive\n",
        "from google.colab import auth\n",
        "from oauth2client.client import GoogleCredentials\n",
        "# Authenticate and create the PyDrive client.\n",
        "auth.authenticate_user()\n",
        "gauth = GoogleAuth()\n",
        "gauth.credentials = GoogleCredentials.get_application_default()\n",
        "drive = GoogleDrive(gauth)"
      ],
      "execution_count": 0,
      "outputs": [
        {
          "output_type": "stream",
          "text": [
            "\u001b[?25l\r\u001b[K    1% |▎                               | 10kB 16.2MB/s eta 0:00:01\r\u001b[K    2% |▋                               | 20kB 1.9MB/s eta 0:00:01\r\u001b[K    3% |█                               | 30kB 2.7MB/s eta 0:00:01\r\u001b[K    4% |█▎                              | 40kB 1.8MB/s eta 0:00:01\r\u001b[K    5% |█▋                              | 51kB 2.2MB/s eta 0:00:01\r\u001b[K    6% |██                              | 61kB 2.6MB/s eta 0:00:01\r\u001b[K    7% |██▎                             | 71kB 3.0MB/s eta 0:00:01\r\u001b[K    8% |██▋                             | 81kB 3.4MB/s eta 0:00:01\r\u001b[K    9% |███                             | 92kB 3.8MB/s eta 0:00:01\r\u001b[K    10% |███▎                            | 102kB 2.9MB/s eta 0:00:01\r\u001b[K    11% |███▋                            | 112kB 2.9MB/s eta 0:00:01\r\u001b[K    12% |████                            | 122kB 4.1MB/s eta 0:00:01\r\u001b[K    13% |████▎                           | 133kB 4.1MB/s eta 0:00:01\r\u001b[K    14% |████▋                           | 143kB 7.8MB/s eta 0:00:01\r\u001b[K    15% |█████                           | 153kB 7.9MB/s eta 0:00:01\r\u001b[K    16% |█████▎                          | 163kB 7.9MB/s eta 0:00:01\r\u001b[K    17% |█████▋                          | 174kB 7.8MB/s eta 0:00:01\r\u001b[K    18% |██████                          | 184kB 7.8MB/s eta 0:00:01\r\u001b[K    19% |██████▎                         | 194kB 7.8MB/s eta 0:00:01\r\u001b[K    20% |██████▋                         | 204kB 8.2MB/s eta 0:00:01\r\u001b[K    21% |███████                         | 215kB 8.3MB/s eta 0:00:01\r\u001b[K    22% |███████▎                        | 225kB 8.3MB/s eta 0:00:01\r\u001b[K    23% |███████▋                        | 235kB 8.4MB/s eta 0:00:01\r\u001b[K    24% |████████                        | 245kB 8.4MB/s eta 0:00:01\r\u001b[K    25% |████████▎                       | 256kB 8.4MB/s eta 0:00:01\r\u001b[K    26% |████████▋                       | 266kB 8.1MB/s eta 0:00:01\r\u001b[K    27% |█████████                       | 276kB 8.3MB/s eta 0:00:01\r\u001b[K    29% |█████████▎                      | 286kB 8.3MB/s eta 0:00:01\r\u001b[K    30% |█████████▋                      | 296kB 8.3MB/s eta 0:00:01\r\u001b[K    31% |██████████                      | 307kB 46.7MB/s eta 0:00:01\r\u001b[K    32% |██████████▎                     | 317kB 51.0MB/s eta 0:00:01\r\u001b[K    33% |██████████▋                     | 327kB 51.8MB/s eta 0:00:01\r\u001b[K    34% |███████████                     | 337kB 52.5MB/s eta 0:00:01\r\u001b[K    35% |███████████▎                    | 348kB 45.8MB/s eta 0:00:01\r\u001b[K    36% |███████████▋                    | 358kB 46.2MB/s eta 0:00:01\r\u001b[K    37% |████████████                    | 368kB 59.0MB/s eta 0:00:01\r\u001b[K    38% |████████████▎                   | 378kB 59.6MB/s eta 0:00:01\r\u001b[K    39% |████████████▋                   | 389kB 60.1MB/s eta 0:00:01\r\u001b[K    40% |█████████████                   | 399kB 10.4MB/s eta 0:00:01\r\u001b[K    41% |█████████████▎                  | 409kB 10.2MB/s eta 0:00:01\r\u001b[K    42% |█████████████▋                  | 419kB 10.1MB/s eta 0:00:01\r\u001b[K    43% |██████████████                  | 430kB 10.1MB/s eta 0:00:01\r\u001b[K    44% |██████████████▎                 | 440kB 10.1MB/s eta 0:00:01\r\u001b[K    45% |██████████████▋                 | 450kB 10.0MB/s eta 0:00:01\r\u001b[K    46% |███████████████                 | 460kB 9.9MB/s eta 0:00:01\r\u001b[K    47% |███████████████▎                | 471kB 9.9MB/s eta 0:00:01\r\u001b[K    48% |███████████████▋                | 481kB 9.9MB/s eta 0:00:01\r\u001b[K    49% |████████████████                | 491kB 9.9MB/s eta 0:00:01\r\u001b[K    50% |████████████████▎               | 501kB 46.6MB/s eta 0:00:01\r\u001b[K    51% |████████████████▋               | 512kB 46.0MB/s eta 0:00:01\r\u001b[K    52% |█████████████████               | 522kB 46.1MB/s eta 0:00:01\r\u001b[K    53% |█████████████████▎              | 532kB 46.9MB/s eta 0:00:01\r\u001b[K    54% |█████████████████▋              | 542kB 47.8MB/s eta 0:00:01\r\u001b[K    55% |██████████████████              | 552kB 59.3MB/s eta 0:00:01\r\u001b[K    57% |██████████████████▎             | 563kB 62.9MB/s eta 0:00:01\r\u001b[K    58% |██████████████████▋             | 573kB 62.2MB/s eta 0:00:01\r\u001b[K    59% |███████████████████             | 583kB 61.7MB/s eta 0:00:01\r\u001b[K    60% |███████████████████▎            | 593kB 61.7MB/s eta 0:00:01\r\u001b[K    61% |███████████████████▋            | 604kB 62.2MB/s eta 0:00:01\r\u001b[K    62% |████████████████████            | 614kB 73.8MB/s eta 0:00:01\r\u001b[K    63% |████████████████████▎           | 624kB 74.1MB/s eta 0:00:01\r\u001b[K    64% |████████████████████▋           | 634kB 75.0MB/s eta 0:00:01\r\u001b[K    65% |█████████████████████           | 645kB 74.9MB/s eta 0:00:01\r\u001b[K    66% |█████████████████████▎          | 655kB 74.7MB/s eta 0:00:01\r\u001b[K    67% |█████████████████████▋          | 665kB 48.9MB/s eta 0:00:01\r\u001b[K    68% |██████████████████████          | 675kB 48.8MB/s eta 0:00:01\r\u001b[K    69% |██████████████████████▎         | 686kB 48.7MB/s eta 0:00:01\r\u001b[K    70% |██████████████████████▋         | 696kB 49.0MB/s eta 0:00:01\r\u001b[K    71% |███████████████████████         | 706kB 48.9MB/s eta 0:00:01\r\u001b[K    72% |███████████████████████▎        | 716kB 49.2MB/s eta 0:00:01\r\u001b[K    73% |███████████████████████▋        | 727kB 49.3MB/s eta 0:00:01\r\u001b[K    74% |████████████████████████        | 737kB 13.0MB/s eta 0:00:01\r\u001b[K    75% |████████████████████████▎       | 747kB 12.8MB/s eta 0:00:01\r\u001b[K    76% |████████████████████████▋       | 757kB 12.7MB/s eta 0:00:01\r\u001b[K    77% |████████████████████████▉       | 768kB 13.9MB/s eta 0:00:01\r\u001b[K    78% |█████████████████████████▏      | 778kB 13.9MB/s eta 0:00:01\r\u001b[K    79% |█████████████████████████▌      | 788kB 14.0MB/s eta 0:00:01\r\u001b[K    80% |█████████████████████████▉      | 798kB 13.9MB/s eta 0:00:01\r\u001b[K    81% |██████████████████████████▏     | 808kB 13.6MB/s eta 0:00:01\r\u001b[K    82% |██████████████████████████▌     | 819kB 13.5MB/s eta 0:00:01\r\u001b[K    83% |██████████████████████████▉     | 829kB 13.5MB/s eta 0:00:01\r\u001b[K    85% |███████████████████████████▏    | 839kB 56.2MB/s eta 0:00:01\r\u001b[K    86% |███████████████████████████▌    | 849kB 61.6MB/s eta 0:00:01\r\u001b[K    87% |███████████████████████████▉    | 860kB 47.9MB/s eta 0:00:01\r\u001b[K    88% |████████████████████████████▏   | 870kB 47.6MB/s eta 0:00:01\r\u001b[K    89% |████████████████████████████▌   | 880kB 48.1MB/s eta 0:00:01\r\u001b[K    90% |████████████████████████████▉   | 890kB 48.2MB/s eta 0:00:01\r\u001b[K    91% |█████████████████████████████▏  | 901kB 48.4MB/s eta 0:00:01\r\u001b[K    92% |█████████████████████████████▌  | 911kB 52.2MB/s eta 0:00:01\r\u001b[K    93% |█████████████████████████████▉  | 921kB 53.6MB/s eta 0:00:01\r\u001b[K    94% |██████████████████████████████▏ | 931kB 53.7MB/s eta 0:00:01\r\u001b[K    95% |██████████████████████████████▌ | 942kB 54.9MB/s eta 0:00:01\r\u001b[K    96% |██████████████████████████████▉ | 952kB 55.6MB/s eta 0:00:01\r\u001b[K    97% |███████████████████████████████▏| 962kB 79.2MB/s eta 0:00:01\r\u001b[K    98% |███████████████████████████████▌| 972kB 81.9MB/s eta 0:00:01\r\u001b[K    99% |███████████████████████████████▉| 983kB 81.1MB/s eta 0:00:01\r\u001b[K    100% |████████████████████████████████| 993kB 10.7MB/s \n",
            "\u001b[?25h  Building wheel for PyDrive (setup.py) ... \u001b[?25ldone\n",
            "\u001b[?25h"
          ],
          "name": "stdout"
        }
      ]
    },
    {
      "metadata": {
        "id": "w32nHbmxnDjL",
        "colab_type": "text"
      },
      "cell_type": "markdown",
      "source": [
        ""
      ]
    },
    {
      "metadata": {
        "id": "KXs5HWRxbW2Q",
        "colab_type": "text"
      },
      "cell_type": "markdown",
      "source": [
        "**Datasets**\n",
        "\n",
        "\n",
        "Historical Consumption: A selected time series of consumption data for over 200 buildings.\n",
        "\n",
        "List of Variables that are included in the multiple datasets:\n",
        "\n",
        "**Training Dataset Variables**\n",
        "\n",
        "* **obs_id** - An arbitrary ID for the observations\n",
        "* **SiteId** - An arbitrary ID number for the building, matches across datasets\n",
        "* **ForecastId** - An ID for a timeseries that is part of a forecast (can be matched with the submission file)\n",
        "* **Timestamp** - The time of the measurement\n",
        "* **Value** - A measure of consumption for that building\n",
        "\n",
        "\n",
        "**Building Metadata Dataset**: Additional information about the included buildings.\n",
        "\n",
        "* **SiteId** - An arbitrary ID number for the building, matches across datasets\n",
        "* **Surface** - The surface area of the building\n",
        "* **Sampling** - The number of minutes between each observation for this site. The timestep size for each ForecastId can be found in the separate \"Submission Forecast Period\" file on the data download page.\n",
        "* **BaseTemperature** - The base temperature for the building\n",
        "* **[DAY_OF_WEEK]IsDayOff** - True if DAY_OF_WEEK is not a work day\n",
        "Historical Weather Data\n",
        "This dataset contains temperature data from several stations near each site. For each site several temperature measurements were retrieved from stations in a radius of 30 km if available.\n",
        "\n",
        "Note: Not all sites will have available weather data.\n",
        "\n",
        "Note: Weather data is available for test periods under the assumption that reasonably accurate forecasts will be available to algorithms that the time that we are attempting to make predictions about the future.\n",
        "\n",
        "**Weather Dataset Variables**\n",
        "\n",
        "* **SiteId** - An arbitrary ID number for the building, matches across datasets\n",
        "* **Timestamp** - The time of the measurement\n",
        "* **Temperature** - The temperature as measured at the weather station\n",
        "* **Distance** - The distance in km from the weather station to the building in km\n",
        "Public Holidays\n",
        "Public holidays at the sites included in the dataset, which may be helpful for identifying days where consumption may be lower than expected.\n",
        "\n",
        "Note: Not all sites will have available public holiday data.\n",
        "\n",
        "**Holidays Dataset**\n",
        "\n",
        "* **SiteId** - An arbitrary ID number for the building, matches across datasets\n",
        "* **Date** - The date of the holiday\n",
        "* **Holiday** - The name of the holiday"
      ]
    },
    {
      "metadata": {
        "id": "3SJcZ9NUFnDm",
        "colab_type": "text"
      },
      "cell_type": "markdown",
      "source": [
        "# Submission Forecast Period (not using)"
      ]
    },
    {
      "metadata": {
        "id": "PyMTiS4hxHdY",
        "colab_type": "text"
      },
      "cell_type": "markdown",
      "source": [
        "**There are no days off for buildings Monday - Thursday**\n",
        "**Minimal days off for friday, saturday, sunday\n"
      ]
    },
    {
      "metadata": {
        "id": "VL3bJa0TiBEv",
        "colab_type": "code",
        "outputId": "5c172a5d-6f39-4a87-e267-12cc756e0ad5",
        "colab": {
          "base_uri": "https://localhost:8080/",
          "height": 34
        }
      },
      "cell_type": "code",
      "source": [
        "submission_forecast_period = 'https://drive.google.com/open?id=1S59Hrh4yduw3Ee_X5yHzHDlSbg-1PkUK'\n",
        "fluff, id = submission_forecast_period.split('=')\n",
        "print (id)"
      ],
      "execution_count": 0,
      "outputs": [
        {
          "output_type": "stream",
          "text": [
            "1S59Hrh4yduw3Ee_X5yHzHDlSbg-1PkUK\n"
          ],
          "name": "stdout"
        }
      ]
    },
    {
      "metadata": {
        "id": "xjoDOipriQz6",
        "colab_type": "code",
        "outputId": "deb7d2b7-c83f-46c3-9efa-80afdac760ad",
        "colab": {
          "base_uri": "https://localhost:8080/",
          "height": 195
        }
      },
      "cell_type": "code",
      "source": [
        "downloaded = drive.CreateFile({'id':id}) \n",
        "downloaded.GetContentFile('power-laws-forecasting-energy-consumption-submission-forecast-period.csv')  \n",
        "submission_forecast_period = pd.read_csv('power-laws-forecasting-energy-consumption-submission-forecast-period.csv', sep = ';')\n",
        "submission_forecast_period.head()"
      ],
      "execution_count": 0,
      "outputs": [
        {
          "output_type": "execute_result",
          "data": {
            "text/html": [
              "<div>\n",
              "<style scoped>\n",
              "    .dataframe tbody tr th:only-of-type {\n",
              "        vertical-align: middle;\n",
              "    }\n",
              "\n",
              "    .dataframe tbody tr th {\n",
              "        vertical-align: top;\n",
              "    }\n",
              "\n",
              "    .dataframe thead th {\n",
              "        text-align: right;\n",
              "    }\n",
              "</style>\n",
              "<table border=\"1\" class=\"dataframe\">\n",
              "  <thead>\n",
              "    <tr style=\"text-align: right;\">\n",
              "      <th></th>\n",
              "      <th>ForecastId</th>\n",
              "      <th>ForecastPeriodNS</th>\n",
              "    </tr>\n",
              "  </thead>\n",
              "  <tbody>\n",
              "    <tr>\n",
              "      <th>0</th>\n",
              "      <td>18</td>\n",
              "      <td>3600000000000</td>\n",
              "    </tr>\n",
              "    <tr>\n",
              "      <th>1</th>\n",
              "      <td>58</td>\n",
              "      <td>900000000000</td>\n",
              "    </tr>\n",
              "    <tr>\n",
              "      <th>2</th>\n",
              "      <td>64</td>\n",
              "      <td>900000000000</td>\n",
              "    </tr>\n",
              "    <tr>\n",
              "      <th>3</th>\n",
              "      <td>89</td>\n",
              "      <td>900000000000</td>\n",
              "    </tr>\n",
              "    <tr>\n",
              "      <th>4</th>\n",
              "      <td>101</td>\n",
              "      <td>900000000000</td>\n",
              "    </tr>\n",
              "  </tbody>\n",
              "</table>\n",
              "</div>"
            ],
            "text/plain": [
              "   ForecastId  ForecastPeriodNS\n",
              "0          18     3600000000000\n",
              "1          58      900000000000\n",
              "2          64      900000000000\n",
              "3          89      900000000000\n",
              "4         101      900000000000"
            ]
          },
          "metadata": {
            "tags": []
          },
          "execution_count": 17
        }
      ]
    },
    {
      "metadata": {
        "id": "s_VO2XaSOmzb",
        "colab_type": "code",
        "outputId": "152b51b9-dcf7-4c73-d0ad-5c2ffb785e00",
        "colab": {
          "base_uri": "https://localhost:8080/",
          "height": 655
        }
      },
      "cell_type": "code",
      "source": [
        "datainspect(submission_forecast_period)"
      ],
      "execution_count": 0,
      "outputs": [
        {
          "output_type": "stream",
          "text": [
            "ROWS AND COLUMNS: \n",
            " (6974, 2) \n",
            "\n",
            "MISSING VALUES: \n",
            " ForecastId          0\n",
            "ForecastPeriodNS    0\n",
            "dtype: int64 \n",
            "\n",
            "DUPLICATE ROWS \n",
            " 0 \n",
            "\n",
            "DATA TYPES: \n",
            " ForecastId          int64\n",
            "ForecastPeriodNS    int64\n",
            "dtype: object \n",
            "\n",
            "DATAFRAME DESCRIBE: \n",
            " \n",
            "         ForecastId  ForecastPeriodNS\n",
            "count  6974.000000      6.974000e+03\n",
            "mean   3487.500000      4.151821e+12\n",
            "std    2013.364721      1.502076e+13\n",
            "min       1.000000      9.000000e+11\n",
            "25%    1744.250000      9.000000e+11\n",
            "50%    3487.500000      9.000000e+11\n",
            "75%    5230.750000      9.000000e+11\n",
            "max    6974.000000      8.640000e+13 \n",
            "\n",
            "UNIQUE VALUES:\n",
            "ForecastId 6974\n",
            "ForecastPeriodNS 3\n",
            "\n",
            "\n",
            "VARIABLE CATEGORIES: \n",
            "\n",
            "ForecastId :  Numerical\n",
            "ForecastPeriodNS :  Numerical\n",
            "None\n"
          ],
          "name": "stdout"
        }
      ]
    },
    {
      "metadata": {
        "id": "BO-xAs2Wz9v3",
        "colab_type": "code",
        "outputId": "b2631b2d-09ad-4e12-8bbb-abb596b8ad26",
        "colab": {
          "base_uri": "https://localhost:8080/",
          "height": 326
        }
      },
      "cell_type": "code",
      "source": [
        "submission_forecast_period.plot(kind='scatter', x='ForecastId', y='ForecastPeriodNS');"
      ],
      "execution_count": 0,
      "outputs": [
        {
          "output_type": "stream",
          "text": [
            "'c' argument looks like a single numeric RGB or RGBA sequence, which should be avoided as value-mapping will have precedence in case its length matches with 'x' & 'y'.  Please use a 2-D array with a single row if you really want to specify the same RGB or RGBA value for all points.\n"
          ],
          "name": "stderr"
        },
        {
          "output_type": "display_data",
          "data": {
            "image/png": "[encoded data removed]",
            "text/plain": [
              "<Figure size 432x288 with 1 Axes>"
            ]
          },
          "metadata": {
            "tags": []
          }
        }
      ]
    },
    {
      "metadata": {
        "id": "M2IktXyw1hOv",
        "colab_type": "code",
        "outputId": "991efb3d-61ce-4aa4-f9b7-4b06cc7edfab",
        "colab": {
          "base_uri": "https://localhost:8080/",
          "height": 293
        }
      },
      "cell_type": "code",
      "source": [
        "correlation = submission_forecast_period.corr()                            # correlation between ALL variables \n",
        "sns.heatmap(correlation, cmap='bwr')"
      ],
      "execution_count": 0,
      "outputs": [
        {
          "output_type": "execute_result",
          "data": {
            "text/plain": [
              "<matplotlib.axes._subplots.AxesSubplot at 0x7f87c6d136a0>"
            ]
          },
          "metadata": {
            "tags": []
          },
          "execution_count": 20
        },
        {
          "output_type": "display_data",
          "data": {
            "image/png": "[encoded data removed]",
            "text/plain": [
              "<Figure size 432x288 with 2 Axes>"
            ]
          },
          "metadata": {
            "tags": []
          }
        }
      ]
    },
    {
      "metadata": {
        "id": "pKmBwIWHFuAH",
        "colab_type": "text"
      },
      "cell_type": "markdown",
      "source": [
        "# Submission Format (not using)"
      ]
    },
    {
      "metadata": {
        "id": "OdgrBxjrizZJ",
        "colab_type": "code",
        "outputId": "19431d6f-d846-47b7-8869-55de48474ed8",
        "colab": {
          "base_uri": "https://localhost:8080/",
          "height": 34
        }
      },
      "cell_type": "code",
      "source": [
        "submission_format = 'https://drive.google.com/open?id=1B196PxseHWY4DTGgy1dUMqwtm7MFEw_r'\n",
        "fluff, id = submission_format.split('=')\n",
        "print (id)"
      ],
      "execution_count": 0,
      "outputs": [
        {
          "output_type": "stream",
          "text": [
            "1B196PxseHWY4DTGgy1dUMqwtm7MFEw_r\n"
          ],
          "name": "stdout"
        }
      ]
    },
    {
      "metadata": {
        "id": "PDiFXBWJkb5H",
        "colab_type": "code",
        "outputId": "d1632ab6-1e87-4135-f7b9-066b40b3e23b",
        "colab": {
          "base_uri": "https://localhost:8080/",
          "height": 195
        }
      },
      "cell_type": "code",
      "source": [
        "downloaded = drive.CreateFile({'id':id}) \n",
        "downloaded.GetContentFile('power-laws-forecasting-energy-consumption-submission-format.csv')  \n",
        "submission_format = pd.read_csv('power-laws-forecasting-energy-consumption-submission-format.csv', sep = ';')\n",
        "submission_format.head()"
      ],
      "execution_count": 0,
      "outputs": [
        {
          "output_type": "execute_result",
          "data": {
            "text/html": [
              "<div>\n",
              "<style scoped>\n",
              "    .dataframe tbody tr th:only-of-type {\n",
              "        vertical-align: middle;\n",
              "    }\n",
              "\n",
              "    .dataframe tbody tr th {\n",
              "        vertical-align: top;\n",
              "    }\n",
              "\n",
              "    .dataframe thead th {\n",
              "        text-align: right;\n",
              "    }\n",
              "</style>\n",
              "<table border=\"1\" class=\"dataframe\">\n",
              "  <thead>\n",
              "    <tr style=\"text-align: right;\">\n",
              "      <th></th>\n",
              "      <th>obs_id</th>\n",
              "      <th>SiteId</th>\n",
              "      <th>Timestamp</th>\n",
              "      <th>ForecastId</th>\n",
              "      <th>Value</th>\n",
              "    </tr>\n",
              "  </thead>\n",
              "  <tbody>\n",
              "    <tr>\n",
              "      <th>0</th>\n",
              "      <td>2535749</td>\n",
              "      <td>143</td>\n",
              "      <td>2017-08-28</td>\n",
              "      <td>3146</td>\n",
              "      <td>0.0</td>\n",
              "    </tr>\n",
              "    <tr>\n",
              "      <th>1</th>\n",
              "      <td>7300088</td>\n",
              "      <td>143</td>\n",
              "      <td>2017-08-28</td>\n",
              "      <td>3146</td>\n",
              "      <td>0.0</td>\n",
              "    </tr>\n",
              "    <tr>\n",
              "      <th>2</th>\n",
              "      <td>1465337</td>\n",
              "      <td>143</td>\n",
              "      <td>2017-08-28</td>\n",
              "      <td>3146</td>\n",
              "      <td>0.0</td>\n",
              "    </tr>\n",
              "    <tr>\n",
              "      <th>3</th>\n",
              "      <td>4747700</td>\n",
              "      <td>143</td>\n",
              "      <td>2017-08-28</td>\n",
              "      <td>3146</td>\n",
              "      <td>0.0</td>\n",
              "    </tr>\n",
              "    <tr>\n",
              "      <th>4</th>\n",
              "      <td>6008051</td>\n",
              "      <td>143</td>\n",
              "      <td>2017-08-28</td>\n",
              "      <td>3146</td>\n",
              "      <td>0.0</td>\n",
              "    </tr>\n",
              "  </tbody>\n",
              "</table>\n",
              "</div>"
            ],
            "text/plain": [
              "    obs_id  SiteId   Timestamp  ForecastId  Value\n",
              "0  2535749     143  2017-08-28        3146    0.0\n",
              "1  7300088     143  2017-08-28        3146    0.0\n",
              "2  1465337     143  2017-08-28        3146    0.0\n",
              "3  4747700     143  2017-08-28        3146    0.0\n",
              "4  6008051     143  2017-08-28        3146    0.0"
            ]
          },
          "metadata": {
            "tags": []
          },
          "execution_count": 22
        }
      ]
    },
    {
      "metadata": {
        "id": "kmj74_hgOwHC",
        "colab_type": "code",
        "outputId": "03a9a426-e7b4-437b-f44e-146f69da28e8",
        "colab": {
          "base_uri": "https://localhost:8080/",
          "height": 907
        }
      },
      "cell_type": "code",
      "source": [
        "datainspect(submission_format)"
      ],
      "execution_count": 0,
      "outputs": [
        {
          "output_type": "stream",
          "text": [
            "ROWS AND COLUMNS: \n",
            " (1309176, 5) \n",
            "\n",
            "MISSING VALUES: \n",
            " obs_id        0\n",
            "SiteId        0\n",
            "Timestamp     0\n",
            "ForecastId    0\n",
            "Value         0\n",
            "dtype: int64 \n",
            "\n",
            "DUPLICATE ROWS \n",
            " 0 \n",
            "\n",
            "DATA TYPES: \n",
            " obs_id          int64\n",
            "SiteId          int64\n",
            "Timestamp      object\n",
            "ForecastId      int64\n",
            "Value         float64\n",
            "dtype: object \n",
            "\n",
            "DATAFRAME DESCRIBE: \n",
            " \n",
            "               obs_id        SiteId   Timestamp    ForecastId      Value\n",
            "count   1.309176e+06  1.309176e+06     1309176  1.309176e+06  1309176.0\n",
            "unique           NaN           NaN        2269           NaN        NaN\n",
            "top              NaN           NaN  2016-07-26           NaN        NaN\n",
            "freq             NaN           NaN        2597           NaN        NaN\n",
            "mean    3.931478e+06  1.621134e+02         NaN  3.482680e+03        0.0\n",
            "std     2.271962e+06  9.393814e+01         NaN  2.009967e+03        0.0\n",
            "min     2.000000e+00  1.000000e+00         NaN  1.000000e+00        0.0\n",
            "25%     1.963225e+06  8.700000e+01         NaN  1.744000e+03        0.0\n",
            "50%     3.930562e+06  1.730000e+02         NaN  3.489000e+03        0.0\n",
            "75%     5.900716e+06  2.370000e+02         NaN  5.217000e+03        0.0\n",
            "max     7.869003e+06  3.050000e+02         NaN  6.974000e+03        0.0 \n",
            "\n",
            "UNIQUE VALUES:\n",
            "obs_id 1309176\n",
            "SiteId 267\n",
            "Timestamp 2269\n",
            "ForecastId 6974\n",
            "Value 1\n",
            "\n",
            "\n",
            "VARIABLE CATEGORIES: \n",
            "\n",
            "obs_id :  Numerical\n",
            "SiteId :  Numerical\n",
            "Timestamp :  Categorical\n",
            "ForecastId :  Numerical\n",
            "Value :  Numerical\n",
            "None\n"
          ],
          "name": "stdout"
        }
      ]
    },
    {
      "metadata": {
        "id": "TT8Nwt5REnIv",
        "colab_type": "text"
      },
      "cell_type": "markdown",
      "source": [
        "# Holidays"
      ]
    },
    {
      "metadata": {
        "id": "0Hp5R7vIf-4C",
        "colab_type": "code",
        "outputId": "c8cf25ff-2bae-4758-b011-6f5f01e3670a",
        "colab": {
          "base_uri": "https://localhost:8080/",
          "height": 34
        }
      },
      "cell_type": "code",
      "source": [
        "holidays = 'https://drive.google.com/open?id=1H0TqoTnei1_8DP-ttDsOsJyVkmytQZLG'\n",
        "fluff, id = holidays.split('=')\n",
        "print (id)"
      ],
      "execution_count": 0,
      "outputs": [
        {
          "output_type": "stream",
          "text": [
            "1H0TqoTnei1_8DP-ttDsOsJyVkmytQZLG\n"
          ],
          "name": "stdout"
        }
      ]
    },
    {
      "metadata": {
        "id": "nmsSxfjXgxVV",
        "colab_type": "code",
        "outputId": "a6a12b73-85b6-44a6-8496-5666fa81952f",
        "colab": {
          "base_uri": "https://localhost:8080/",
          "height": 204
        }
      },
      "cell_type": "code",
      "source": [
        "downloaded = drive.CreateFile({'id':id}) \n",
        "downloaded.GetContentFile('power-laws-forecasting-energy-consumption-holidays.csv')  \n",
        "holidays = pd.read_csv('power-laws-forecasting-energy-consumption-holidays.csv', sep = ';')\n",
        "holidays.head()"
      ],
      "execution_count": 0,
      "outputs": [
        {
          "output_type": "execute_result",
          "data": {
            "text/html": [
              "<div>\n",
              "<style scoped>\n",
              "    .dataframe tbody tr th:only-of-type {\n",
              "        vertical-align: middle;\n",
              "    }\n",
              "\n",
              "    .dataframe tbody tr th {\n",
              "        vertical-align: top;\n",
              "    }\n",
              "\n",
              "    .dataframe thead th {\n",
              "        text-align: right;\n",
              "    }\n",
              "</style>\n",
              "<table border=\"1\" class=\"dataframe\">\n",
              "  <thead>\n",
              "    <tr style=\"text-align: right;\">\n",
              "      <th></th>\n",
              "      <th>Date</th>\n",
              "      <th>Holiday</th>\n",
              "      <th>SiteId</th>\n",
              "    </tr>\n",
              "  </thead>\n",
              "  <tbody>\n",
              "    <tr>\n",
              "      <th>0</th>\n",
              "      <td>2015-05-01</td>\n",
              "      <td>Workers Day</td>\n",
              "      <td>189</td>\n",
              "    </tr>\n",
              "    <tr>\n",
              "      <th>1</th>\n",
              "      <td>2015-09-24</td>\n",
              "      <td>Heritage Day</td>\n",
              "      <td>189</td>\n",
              "    </tr>\n",
              "    <tr>\n",
              "      <th>2</th>\n",
              "      <td>2017-01-02</td>\n",
              "      <td>New year substitute</td>\n",
              "      <td>190</td>\n",
              "    </tr>\n",
              "    <tr>\n",
              "      <th>3</th>\n",
              "      <td>2017-08-09</td>\n",
              "      <td>National Women Day</td>\n",
              "      <td>190</td>\n",
              "    </tr>\n",
              "    <tr>\n",
              "      <th>4</th>\n",
              "      <td>2017-12-26</td>\n",
              "      <td>Boxing Day</td>\n",
              "      <td>190</td>\n",
              "    </tr>\n",
              "  </tbody>\n",
              "</table>\n",
              "</div>"
            ],
            "text/plain": [
              "         Date              Holiday  SiteId\n",
              "0  2015-05-01          Workers Day     189\n",
              "1  2015-09-24         Heritage Day     189\n",
              "2  2017-01-02  New year substitute     190\n",
              "3  2017-08-09   National Women Day     190\n",
              "4  2017-12-26           Boxing Day     190"
            ]
          },
          "metadata": {
            "tags": []
          },
          "execution_count": 10
        }
      ]
    },
    {
      "metadata": {
        "id": "kNj7G4_f4dj8",
        "colab_type": "text"
      },
      "cell_type": "markdown",
      "source": [
        "**Holidays Dataset**\n",
        "\n",
        "SiteId - An arbitrary ID number for the building, matches across datasets\n",
        "\n",
        "Date - The date of the holiday\n",
        "\n",
        "Holiday - The name of the holiday\n",
        "\n",
        "I'm thinking this dataset does not tell us much since we already have the days that the building is on and off so this may be redundant data.\n"
      ]
    },
    {
      "metadata": {
        "id": "hBxv-Zo_OUtn",
        "colab_type": "code",
        "outputId": "a515a0b3-484f-43cc-f6fb-796cf2790fbe",
        "colab": {
          "base_uri": "https://localhost:8080/",
          "height": 782
        }
      },
      "cell_type": "code",
      "source": [
        "datainspect(holidays)"
      ],
      "execution_count": 0,
      "outputs": [
        {
          "output_type": "stream",
          "text": [
            "ROWS AND COLUMNS: \n",
            " (8387, 3) \n",
            "\n",
            "MISSING VALUES: \n",
            " Date       0\n",
            "Holiday    0\n",
            "SiteId     0\n",
            "dtype: int64 \n",
            "\n",
            "DUPLICATE ROWS \n",
            " 0 \n",
            "\n",
            "DATA TYPES: \n",
            " Date       object\n",
            "Holiday    object\n",
            "SiteId      int64\n",
            "dtype: object \n",
            "\n",
            "DATAFRAME DESCRIBE: \n",
            " \n",
            "               Date        Holiday       SiteId\n",
            "count         8387           8387  8387.000000\n",
            "unique         346            110          NaN\n",
            "top     2016-12-26  Christmas Day          NaN\n",
            "freq           253            707          NaN\n",
            "mean           NaN            NaN   156.675808\n",
            "std            NaN            NaN    85.650221\n",
            "min            NaN            NaN     1.000000\n",
            "25%            NaN            NaN    87.000000\n",
            "50%            NaN            NaN   157.000000\n",
            "75%            NaN            NaN   216.000000\n",
            "max            NaN            NaN   305.000000 \n",
            "\n",
            "UNIQUE VALUES:\n",
            "Date 346\n",
            "Holiday 110\n",
            "SiteId 227\n",
            "\n",
            "\n",
            "VARIABLE CATEGORIES: \n",
            "\n",
            "Date :  Categorical\n",
            "Holiday :  Categorical\n",
            "SiteId :  Numerical\n",
            "None\n"
          ],
          "name": "stdout"
        }
      ]
    },
    {
      "metadata": {
        "id": "VnYjTY17sX_l",
        "colab_type": "code",
        "outputId": "ab2d2385-a192-4a7c-ee05-5f22c1ca774d",
        "colab": {
          "base_uri": "https://localhost:8080/",
          "height": 119
        }
      },
      "cell_type": "code",
      "source": [
        "holidays['Holiday'].value_counts().head()"
      ],
      "execution_count": 0,
      "outputs": [
        {
          "output_type": "execute_result",
          "data": {
            "text/plain": [
              "Christmas Day                   707\n",
              "New year                        707\n",
              "Easter Monday                   652\n",
              "All Saints Day                  523\n",
              "Assumption of Mary to Heaven    521\n",
              "Name: Holiday, dtype: int64"
            ]
          },
          "metadata": {
            "tags": []
          },
          "execution_count": 12
        }
      ]
    },
    {
      "metadata": {
        "id": "SUfcXAWvEsn9",
        "colab_type": "text"
      },
      "cell_type": "markdown",
      "source": [
        "# Metadata"
      ]
    },
    {
      "metadata": {
        "id": "aQAJsOn2g_pe",
        "colab_type": "code",
        "outputId": "90b1fb8e-0cb1-4271-9b1d-85185b6e3ea3",
        "colab": {
          "base_uri": "https://localhost:8080/",
          "height": 34
        }
      },
      "cell_type": "code",
      "source": [
        "metadata = 'https://drive.google.com/open?id=1dpwWIs3EyLkaaOSN8ws8gMHgCFsRTYK3'\n",
        "fluff, id = metadata.split('=')\n",
        "print (id)"
      ],
      "execution_count": 0,
      "outputs": [
        {
          "output_type": "stream",
          "text": [
            "1dpwWIs3EyLkaaOSN8ws8gMHgCFsRTYK3\n"
          ],
          "name": "stdout"
        }
      ]
    },
    {
      "metadata": {
        "id": "h8Wq9SOhh70h",
        "colab_type": "code",
        "outputId": "e2c392f3-fc2b-43a0-ebb6-7d8dc12e9c0c",
        "colab": {
          "base_uri": "https://localhost:8080/",
          "height": 195
        }
      },
      "cell_type": "code",
      "source": [
        "downloaded = drive.CreateFile({'id':id}) \n",
        "downloaded.GetContentFile('power-laws-forecasting-energy-consumption-metadata.csv')  \n",
        "metadata = pd.read_csv('power-laws-forecasting-energy-consumption-metadata.csv', sep = ';')\n",
        "metadata.head()"
      ],
      "execution_count": 0,
      "outputs": [
        {
          "output_type": "execute_result",
          "data": {
            "text/html": [
              "<div>\n",
              "<style scoped>\n",
              "    .dataframe tbody tr th:only-of-type {\n",
              "        vertical-align: middle;\n",
              "    }\n",
              "\n",
              "    .dataframe tbody tr th {\n",
              "        vertical-align: top;\n",
              "    }\n",
              "\n",
              "    .dataframe thead th {\n",
              "        text-align: right;\n",
              "    }\n",
              "</style>\n",
              "<table border=\"1\" class=\"dataframe\">\n",
              "  <thead>\n",
              "    <tr style=\"text-align: right;\">\n",
              "      <th></th>\n",
              "      <th>SiteId</th>\n",
              "      <th>Surface</th>\n",
              "      <th>Sampling</th>\n",
              "      <th>BaseTemperature</th>\n",
              "      <th>MondayIsDayOff</th>\n",
              "      <th>TuesdayIsDayOff</th>\n",
              "      <th>WednesdayIsDayOff</th>\n",
              "      <th>ThursdayIsDayOff</th>\n",
              "      <th>FridayIsDayOff</th>\n",
              "      <th>SaturdayIsDayOff</th>\n",
              "      <th>SundayIsDayOff</th>\n",
              "    </tr>\n",
              "  </thead>\n",
              "  <tbody>\n",
              "    <tr>\n",
              "      <th>0</th>\n",
              "      <td>25</td>\n",
              "      <td>2201.924904</td>\n",
              "      <td>15.0</td>\n",
              "      <td>18.0</td>\n",
              "      <td>False</td>\n",
              "      <td>False</td>\n",
              "      <td>False</td>\n",
              "      <td>False</td>\n",
              "      <td>False</td>\n",
              "      <td>True</td>\n",
              "      <td>True</td>\n",
              "    </tr>\n",
              "    <tr>\n",
              "      <th>1</th>\n",
              "      <td>49</td>\n",
              "      <td>1046.032846</td>\n",
              "      <td>15.0</td>\n",
              "      <td>18.0</td>\n",
              "      <td>False</td>\n",
              "      <td>False</td>\n",
              "      <td>False</td>\n",
              "      <td>False</td>\n",
              "      <td>False</td>\n",
              "      <td>True</td>\n",
              "      <td>True</td>\n",
              "    </tr>\n",
              "    <tr>\n",
              "      <th>2</th>\n",
              "      <td>73</td>\n",
              "      <td>1278.139659</td>\n",
              "      <td>15.0</td>\n",
              "      <td>18.0</td>\n",
              "      <td>False</td>\n",
              "      <td>False</td>\n",
              "      <td>False</td>\n",
              "      <td>False</td>\n",
              "      <td>False</td>\n",
              "      <td>True</td>\n",
              "      <td>True</td>\n",
              "    </tr>\n",
              "    <tr>\n",
              "      <th>3</th>\n",
              "      <td>105</td>\n",
              "      <td>15684.678378</td>\n",
              "      <td>10.0</td>\n",
              "      <td>18.0</td>\n",
              "      <td>False</td>\n",
              "      <td>False</td>\n",
              "      <td>False</td>\n",
              "      <td>False</td>\n",
              "      <td>False</td>\n",
              "      <td>True</td>\n",
              "      <td>True</td>\n",
              "    </tr>\n",
              "    <tr>\n",
              "      <th>4</th>\n",
              "      <td>117</td>\n",
              "      <td>18772.751947</td>\n",
              "      <td>15.0</td>\n",
              "      <td>18.0</td>\n",
              "      <td>False</td>\n",
              "      <td>False</td>\n",
              "      <td>False</td>\n",
              "      <td>False</td>\n",
              "      <td>False</td>\n",
              "      <td>False</td>\n",
              "      <td>False</td>\n",
              "    </tr>\n",
              "  </tbody>\n",
              "</table>\n",
              "</div>"
            ],
            "text/plain": [
              "   SiteId       Surface  Sampling  BaseTemperature  MondayIsDayOff  \\\n",
              "0      25   2201.924904      15.0             18.0           False   \n",
              "1      49   1046.032846      15.0             18.0           False   \n",
              "2      73   1278.139659      15.0             18.0           False   \n",
              "3     105  15684.678378      10.0             18.0           False   \n",
              "4     117  18772.751947      15.0             18.0           False   \n",
              "\n",
              "   TuesdayIsDayOff  WednesdayIsDayOff  ThursdayIsDayOff  FridayIsDayOff  \\\n",
              "0            False              False             False           False   \n",
              "1            False              False             False           False   \n",
              "2            False              False             False           False   \n",
              "3            False              False             False           False   \n",
              "4            False              False             False           False   \n",
              "\n",
              "   SaturdayIsDayOff  SundayIsDayOff  \n",
              "0              True            True  \n",
              "1              True            True  \n",
              "2              True            True  \n",
              "3              True            True  \n",
              "4             False           False  "
            ]
          },
          "metadata": {
            "tags": []
          },
          "execution_count": 10
        }
      ]
    },
    {
      "metadata": {
        "id": "QEszZ_3nOh_U",
        "colab_type": "code",
        "outputId": "b87a86c7-d607-495a-c8aa-eedd59ded69a",
        "colab": {
          "base_uri": "https://localhost:8080/",
          "height": 178
        }
      },
      "cell_type": "code",
      "source": [
        "datainspect(metadata)\n",
        "# sampling and BaseTemperature do not tell us much about the energy consumption"
      ],
      "execution_count": 0,
      "outputs": [
        {
          "output_type": "error",
          "ename": "NameError",
          "evalue": "ignored",
          "traceback": [
            "\u001b[0;31m---------------------------------------------------------------------------\u001b[0m",
            "\u001b[0;31mNameError\u001b[0m                                 Traceback (most recent call last)",
            "\u001b[0;32m<ipython-input-3-9bcdef55e97f>\u001b[0m in \u001b[0;36m<module>\u001b[0;34m()\u001b[0m\n\u001b[0;32m----> 1\u001b[0;31m \u001b[0mdatainspect\u001b[0m\u001b[0;34m(\u001b[0m\u001b[0mmetadata\u001b[0m\u001b[0;34m)\u001b[0m\u001b[0;34m\u001b[0m\u001b[0;34m\u001b[0m\u001b[0m\n\u001b[0m\u001b[1;32m      2\u001b[0m \u001b[0;31m# sampling and BaseTemperature do not tell us much about the energy consumption\u001b[0m\u001b[0;34m\u001b[0m\u001b[0;34m\u001b[0m\u001b[0;34m\u001b[0m\u001b[0m\n",
            "\u001b[0;31mNameError\u001b[0m: name 'metadata' is not defined"
          ]
        }
      ]
    },
    {
      "metadata": {
        "id": "REyorFtJsz66",
        "colab_type": "code",
        "outputId": "02dbb683-e4f6-43d7-8c6e-dfb45440cfb1",
        "colab": {
          "base_uri": "https://localhost:8080/",
          "height": 50
        }
      },
      "cell_type": "code",
      "source": [
        "metadata['MondayIsDayOff'].value_counts()\n"
      ],
      "execution_count": 0,
      "outputs": [
        {
          "output_type": "execute_result",
          "data": {
            "text/plain": [
              "False    267\n",
              "Name: MondayIsDayOff, dtype: int64"
            ]
          },
          "metadata": {
            "tags": []
          },
          "execution_count": 12
        }
      ]
    },
    {
      "metadata": {
        "id": "RvVPSIUYwJGb",
        "colab_type": "code",
        "colab": {}
      },
      "cell_type": "code",
      "source": [
        "def dayoff(dataframe):\n",
        "    print('MONDAY IS A DAY OFF: \\n', dataframe.MondayIsDayOff.value_counts(),'\\n')\n",
        "    print('TUESDAY IS A DAY OFF: \\n', dataframe.TuesdayIsDayOff.value_counts(),'\\n')\n",
        "    print('WEDNESDAY IS A DAY OFF: \\n', dataframe.WednesdayIsDayOff.value_counts(),'\\n')\n",
        "    print('THURSDAY IS A DAY OFF: \\n', dataframe.ThursdayIsDayOff.value_counts(),'\\n')\n",
        "    print('FRIDAY IS A DAY OFF: \\n', dataframe.FridayIsDayOff.value_counts(),'\\n')\n",
        "    print('SATURDAY IS A DAY OFF: \\n', dataframe.SaturdayIsDayOff.value_counts(),'\\n')\n",
        "    print('SUNDAY IS A DAY OFF: \\n', dataframe.SundayIsDayOff.value_counts(),'\\n')"
      ],
      "execution_count": 0,
      "outputs": []
    },
    {
      "metadata": {
        "id": "RTaHRtJRwq1M",
        "colab_type": "code",
        "outputId": "232195cf-c83b-4030-f3e9-18da4cd93810",
        "colab": {
          "base_uri": "https://localhost:8080/",
          "height": 538
        }
      },
      "cell_type": "code",
      "source": [
        "dayoff(metadata)"
      ],
      "execution_count": 0,
      "outputs": [
        {
          "output_type": "stream",
          "text": [
            "MONDAY IS A DAY OFF: \n",
            " False    267\n",
            "Name: MondayIsDayOff, dtype: int64 \n",
            "\n",
            "TUESDAY IS A DAY OFF: \n",
            " False    267\n",
            "Name: TuesdayIsDayOff, dtype: int64 \n",
            "\n",
            "WEDNESDAY IS A DAY OFF: \n",
            " False    267\n",
            "Name: WednesdayIsDayOff, dtype: int64 \n",
            "\n",
            "THURSDAY IS A DAY OFF: \n",
            " False    267\n",
            "Name: ThursdayIsDayOff, dtype: int64 \n",
            "\n",
            "FRIDAY IS A DAY OFF: \n",
            " False    266\n",
            "True       1\n",
            "Name: FridayIsDayOff, dtype: int64 \n",
            "\n",
            "SATURDAY IS A DAY OFF: \n",
            " True     254\n",
            "False     13\n",
            "Name: SaturdayIsDayOff, dtype: int64 \n",
            "\n",
            "SUNDAY IS A DAY OFF: \n",
            " True     258\n",
            "False      9\n",
            "Name: SundayIsDayOff, dtype: int64 \n",
            "\n"
          ],
          "name": "stdout"
        }
      ]
    },
    {
      "metadata": {
        "id": "rPdNNZpOxsIb",
        "colab_type": "code",
        "outputId": "48c0c52f-6b57-423c-c476-0703829208a1",
        "colab": {
          "base_uri": "https://localhost:8080/",
          "height": 316
        }
      },
      "cell_type": "code",
      "source": [
        "metadata.plot(kind='scatter', x='Surface', y='BaseTemperature');"
      ],
      "execution_count": 0,
      "outputs": [
        {
          "output_type": "stream",
          "text": [
            "'c' argument looks like a single numeric RGB or RGBA sequence, which should be avoided as value-mapping will have precedence in case its length matches with 'x' & 'y'.  Please use a 2-D array with a single row if you really want to specify the same RGB or RGBA value for all points.\n"
          ],
          "name": "stderr"
        },
        {
          "output_type": "display_data",
          "data": {
            "image/png": "[encoded data removed]",
            "text/plain": [
              "<Figure size 432x288 with 1 Axes>"
            ]
          },
          "metadata": {
            "tags": []
          }
        }
      ]
    },
    {
      "metadata": {
        "id": "OMg6fjCpF1Ku",
        "colab_type": "text"
      },
      "cell_type": "markdown",
      "source": [
        "# Training Data"
      ]
    },
    {
      "metadata": {
        "id": "dU7eq3QvkiqI",
        "colab_type": "code",
        "outputId": "02aa8119-ba26-4688-b53f-b6806e464b5b",
        "colab": {
          "base_uri": "https://localhost:8080/",
          "height": 34
        }
      },
      "cell_type": "code",
      "source": [
        "training_data = 'https://drive.google.com/open?id=1Ri9t0yrf2A99S8Lqy3DwvydP-jmsokeL'\n",
        "fluff, id = training_data.split('=')\n",
        "print (id)"
      ],
      "execution_count": 0,
      "outputs": [
        {
          "output_type": "stream",
          "text": [
            "1Ri9t0yrf2A99S8Lqy3DwvydP-jmsokeL\n"
          ],
          "name": "stdout"
        }
      ]
    },
    {
      "metadata": {
        "id": "p8fBeuCllIW7",
        "colab_type": "code",
        "outputId": "3d3bdb29-d7e0-4ee9-c811-83797304ee7a",
        "colab": {
          "base_uri": "https://localhost:8080/",
          "height": 195
        }
      },
      "cell_type": "code",
      "source": [
        "downloaded = drive.CreateFile({'id':id}) \n",
        "downloaded.GetContentFile('power-laws-forecasting-energy-consumption-training-data.csv')  \n",
        "training_data = pd.read_csv('power-laws-forecasting-energy-consumption-training-data.csv', sep = ';')\n",
        "training_data.head()"
      ],
      "execution_count": 0,
      "outputs": [
        {
          "output_type": "execute_result",
          "data": {
            "text/html": [
              "<div>\n",
              "<style scoped>\n",
              "    .dataframe tbody tr th:only-of-type {\n",
              "        vertical-align: middle;\n",
              "    }\n",
              "\n",
              "    .dataframe tbody tr th {\n",
              "        vertical-align: top;\n",
              "    }\n",
              "\n",
              "    .dataframe thead th {\n",
              "        text-align: right;\n",
              "    }\n",
              "</style>\n",
              "<table border=\"1\" class=\"dataframe\">\n",
              "  <thead>\n",
              "    <tr style=\"text-align: right;\">\n",
              "      <th></th>\n",
              "      <th>obs_id</th>\n",
              "      <th>SiteId</th>\n",
              "      <th>Timestamp</th>\n",
              "      <th>ForecastId</th>\n",
              "      <th>Value</th>\n",
              "    </tr>\n",
              "  </thead>\n",
              "  <tbody>\n",
              "    <tr>\n",
              "      <th>0</th>\n",
              "      <td>7385825</td>\n",
              "      <td>295</td>\n",
              "      <td>2016-12-13</td>\n",
              "      <td>6576</td>\n",
              "      <td>120000.030698</td>\n",
              "    </tr>\n",
              "    <tr>\n",
              "      <th>1</th>\n",
              "      <td>5463619</td>\n",
              "      <td>295</td>\n",
              "      <td>2016-12-13</td>\n",
              "      <td>6576</td>\n",
              "      <td>54419.278745</td>\n",
              "    </tr>\n",
              "    <tr>\n",
              "      <th>2</th>\n",
              "      <td>339589</td>\n",
              "      <td>295</td>\n",
              "      <td>2016-12-13</td>\n",
              "      <td>6576</td>\n",
              "      <td>35351.037846</td>\n",
              "    </tr>\n",
              "    <tr>\n",
              "      <th>3</th>\n",
              "      <td>3952414</td>\n",
              "      <td>295</td>\n",
              "      <td>2016-12-13</td>\n",
              "      <td>6576</td>\n",
              "      <td>21932.474447</td>\n",
              "    </tr>\n",
              "    <tr>\n",
              "      <th>4</th>\n",
              "      <td>7222988</td>\n",
              "      <td>295</td>\n",
              "      <td>2016-12-14</td>\n",
              "      <td>6576</td>\n",
              "      <td>19379.923271</td>\n",
              "    </tr>\n",
              "  </tbody>\n",
              "</table>\n",
              "</div>"
            ],
            "text/plain": [
              "    obs_id  SiteId   Timestamp  ForecastId          Value\n",
              "0  7385825     295  2016-12-13        6576  120000.030698\n",
              "1  5463619     295  2016-12-13        6576   54419.278745\n",
              "2   339589     295  2016-12-13        6576   35351.037846\n",
              "3  3952414     295  2016-12-13        6576   21932.474447\n",
              "4  7222988     295  2016-12-14        6576   19379.923271"
            ]
          },
          "metadata": {
            "tags": []
          },
          "execution_count": 25
        }
      ]
    },
    {
      "metadata": {
        "id": "-flb_7gaO-OM",
        "colab_type": "code",
        "outputId": "99508ee4-c443-4766-f45e-64f4812b4e4a",
        "colab": {
          "base_uri": "https://localhost:8080/",
          "height": 907
        }
      },
      "cell_type": "code",
      "source": [
        "datainspect(training_data)"
      ],
      "execution_count": 0,
      "outputs": [
        {
          "output_type": "stream",
          "text": [
            "ROWS AND COLUMNS: \n",
            " (6559830, 5) \n",
            "\n",
            "MISSING VALUES: \n",
            " obs_id            0\n",
            "SiteId            0\n",
            "Timestamp         0\n",
            "ForecastId        0\n",
            "Value         86601\n",
            "dtype: int64 \n",
            "\n",
            "DUPLICATE ROWS \n",
            " 0 \n",
            "\n",
            "DATA TYPES: \n",
            " obs_id          int64\n",
            "SiteId          int64\n",
            "Timestamp      object\n",
            "ForecastId      int64\n",
            "Value         float64\n",
            "dtype: object \n",
            "\n",
            "DATAFRAME DESCRIBE: \n",
            " \n",
            "               obs_id        SiteId   Timestamp    ForecastId         Value\n",
            "count   6.559830e+06  6.559830e+06     6559830  6.559830e+06  6.473229e+06\n",
            "unique           NaN           NaN        2931           NaN           NaN\n",
            "top              NaN           NaN  2016-07-08           NaN           NaN\n",
            "freq             NaN           NaN        7358           NaN           NaN\n",
            "mean    3.935106e+06  1.620964e+02         NaN  3.482184e+03  3.560104e+05\n",
            "std     2.271511e+06  9.392171e+01         NaN  2.009486e+03  3.309454e+08\n",
            "min     0.000000e+00  1.000000e+00         NaN  1.000000e+00  0.000000e+00\n",
            "25%     1.968046e+06  8.700000e+01         NaN  1.744000e+03  3.492465e+03\n",
            "50%     3.935262e+06  1.730000e+02         NaN  3.489000e+03  1.408683e+04\n",
            "75%     5.901983e+06  2.370000e+02         NaN  5.216000e+03  4.649371e+04\n",
            "max     7.869005e+06  3.050000e+02         NaN  6.974000e+03  6.404683e+11 \n",
            "\n",
            "UNIQUE VALUES:\n",
            "obs_id 6559830\n",
            "SiteId 267\n",
            "Timestamp 2931\n",
            "ForecastId 6974\n",
            "Value 1933565\n",
            "\n",
            "\n",
            "VARIABLE CATEGORIES: \n",
            "\n",
            "obs_id :  Numerical\n",
            "SiteId :  Numerical\n",
            "Timestamp :  Categorical\n",
            "ForecastId :  Numerical\n",
            "Value :  Numerical\n",
            "None\n"
          ],
          "name": "stdout"
        }
      ]
    },
    {
      "metadata": {
        "id": "tEZJCQao03Dw",
        "colab_type": "code",
        "outputId": "61534ab7-de19-4b0c-efdd-9729b397e8c0",
        "colab": {
          "base_uri": "https://localhost:8080/",
          "height": 326
        }
      },
      "cell_type": "code",
      "source": [
        "training_data.plot(kind='scatter', x='ForecastId', y='Value');"
      ],
      "execution_count": 0,
      "outputs": [
        {
          "output_type": "stream",
          "text": [
            "'c' argument looks like a single numeric RGB or RGBA sequence, which should be avoided as value-mapping will have precedence in case its length matches with 'x' & 'y'.  Please use a 2-D array with a single row if you really want to specify the same RGB or RGBA value for all points.\n"
          ],
          "name": "stderr"
        },
        {
          "output_type": "display_data",
          "data": {
            "image/png": "[encoded data removed]",
            "text/plain": [
              "<Figure size 432x288 with 1 Axes>"
            ]
          },
          "metadata": {
            "tags": []
          }
        }
      ]
    },
    {
      "metadata": {
        "id": "XQNWOvFV1T_y",
        "colab_type": "code",
        "outputId": "aeb9ef14-a3ad-4bdc-a537-7448348a92ad",
        "colab": {
          "base_uri": "https://localhost:8080/",
          "height": 282
        }
      },
      "cell_type": "code",
      "source": [
        "corr = training_data.corr()                            # correlation between ALL variables \n",
        "sns.heatmap(corr, cmap='bwr')"
      ],
      "execution_count": 0,
      "outputs": [
        {
          "output_type": "execute_result",
          "data": {
            "text/plain": [
              "<matplotlib.axes._subplots.AxesSubplot at 0x7f87c5208b38>"
            ]
          },
          "metadata": {
            "tags": []
          },
          "execution_count": 28
        },
        {
          "output_type": "display_data",
          "data": {
            "image/png": "[encoded data removed]",
            "text/plain": [
              "<Figure size 432x288 with 2 Axes>"
            ]
          },
          "metadata": {
            "tags": []
          }
        }
      ]
    },
    {
      "metadata": {
        "id": "EVPmKIm91t8R",
        "colab_type": "text"
      },
      "cell_type": "markdown",
      "source": [
        "**Correlation Pot**\n",
        "\n",
        "\n",
        "\n",
        "*   forecastId an SiteId are very correlated\n",
        "\n"
      ]
    },
    {
      "metadata": {
        "id": "wlmejkTgUjHS",
        "colab_type": "text"
      },
      "cell_type": "markdown",
      "source": [
        "**Inspecting the Training Data:**\n",
        "\n",
        "\n",
        "*   There are no missing values\n",
        "*   Multiple time-stamps for same Site-id\n",
        "\n"
      ]
    },
    {
      "metadata": {
        "id": "_TJ5RO3cF7ho",
        "colab_type": "text"
      },
      "cell_type": "markdown",
      "source": [
        "# Weather"
      ]
    },
    {
      "metadata": {
        "id": "gmmjRn84lX5-",
        "colab_type": "code",
        "outputId": "0f16a4f7-1590-49f6-9b7b-053045a94443",
        "colab": {
          "base_uri": "https://localhost:8080/",
          "height": 34
        }
      },
      "cell_type": "code",
      "source": [
        "weather = 'https://drive.google.com/open?id=1QZtFjz61NS0Ebbma42LrGtYZFRSsF3Ij'\n",
        "fluff, id = weather.split('=')\n",
        "print (id)"
      ],
      "execution_count": 0,
      "outputs": [
        {
          "output_type": "stream",
          "text": [
            "1QZtFjz61NS0Ebbma42LrGtYZFRSsF3Ij\n"
          ],
          "name": "stdout"
        }
      ]
    },
    {
      "metadata": {
        "id": "UDtjURR6lv1g",
        "colab_type": "code",
        "outputId": "4e9a5bbd-8d61-4d80-9955-2ac7bde2b7eb",
        "colab": {
          "base_uri": "https://localhost:8080/",
          "height": 195
        }
      },
      "cell_type": "code",
      "source": [
        "downloaded = drive.CreateFile({'id':id}) \n",
        "downloaded.GetContentFile('power-laws-forecasting-energy-consumption-weather.csv')  \n",
        "weather = pd.read_csv('power-laws-forecasting-energy-consumption-weather.csv', sep = ';')\n",
        "weather.head()"
      ],
      "execution_count": 0,
      "outputs": [
        {
          "output_type": "execute_result",
          "data": {
            "text/html": [
              "<div>\n",
              "<style scoped>\n",
              "    .dataframe tbody tr th:only-of-type {\n",
              "        vertical-align: middle;\n",
              "    }\n",
              "\n",
              "    .dataframe tbody tr th {\n",
              "        vertical-align: top;\n",
              "    }\n",
              "\n",
              "    .dataframe thead th {\n",
              "        text-align: right;\n",
              "    }\n",
              "</style>\n",
              "<table border=\"1\" class=\"dataframe\">\n",
              "  <thead>\n",
              "    <tr style=\"text-align: right;\">\n",
              "      <th></th>\n",
              "      <th>Timestamp</th>\n",
              "      <th>Temperature</th>\n",
              "      <th>Distance</th>\n",
              "      <th>SiteId</th>\n",
              "    </tr>\n",
              "  </thead>\n",
              "  <tbody>\n",
              "    <tr>\n",
              "      <th>0</th>\n",
              "      <td>2016-11-10T14:50:00-05:00</td>\n",
              "      <td>17.0</td>\n",
              "      <td>18.071988</td>\n",
              "      <td>278</td>\n",
              "    </tr>\n",
              "    <tr>\n",
              "      <th>1</th>\n",
              "      <td>2016-11-10T17:20:00-05:00</td>\n",
              "      <td>15.0</td>\n",
              "      <td>18.071988</td>\n",
              "      <td>278</td>\n",
              "    </tr>\n",
              "    <tr>\n",
              "      <th>2</th>\n",
              "      <td>2016-11-10T18:00:00-05:00</td>\n",
              "      <td>14.6</td>\n",
              "      <td>20.641517</td>\n",
              "      <td>278</td>\n",
              "    </tr>\n",
              "    <tr>\n",
              "      <th>3</th>\n",
              "      <td>2016-11-11T18:50:00-05:00</td>\n",
              "      <td>14.0</td>\n",
              "      <td>18.071988</td>\n",
              "      <td>278</td>\n",
              "    </tr>\n",
              "    <tr>\n",
              "      <th>4</th>\n",
              "      <td>2016-11-11T23:20:00-05:00</td>\n",
              "      <td>10.0</td>\n",
              "      <td>18.071988</td>\n",
              "      <td>278</td>\n",
              "    </tr>\n",
              "  </tbody>\n",
              "</table>\n",
              "</div>"
            ],
            "text/plain": [
              "                   Timestamp  Temperature   Distance  SiteId\n",
              "0  2016-11-10T14:50:00-05:00         17.0  18.071988     278\n",
              "1  2016-11-10T17:20:00-05:00         15.0  18.071988     278\n",
              "2  2016-11-10T18:00:00-05:00         14.6  20.641517     278\n",
              "3  2016-11-11T18:50:00-05:00         14.0  18.071988     278\n",
              "4  2016-11-11T23:20:00-05:00         10.0  18.071988     278"
            ]
          },
          "metadata": {
            "tags": []
          },
          "execution_count": 30
        }
      ]
    },
    {
      "metadata": {
        "id": "Ed94MmXMPUIS",
        "colab_type": "code",
        "outputId": "3860afc6-208a-4eb2-baa4-576a7ad86879",
        "colab": {
          "base_uri": "https://localhost:8080/",
          "height": 840
        }
      },
      "cell_type": "code",
      "source": [
        "datainspect(weather)"
      ],
      "execution_count": 0,
      "outputs": [
        {
          "output_type": "stream",
          "text": [
            "ROWS AND COLUMNS: \n",
            " (19911985, 4) \n",
            "\n",
            "MISSING VALUES: \n",
            " Timestamp      0\n",
            "Temperature    0\n",
            "Distance       0\n",
            "SiteId         0\n",
            "dtype: int64 \n",
            "\n",
            "DUPLICATE ROWS \n",
            " 0 \n",
            "\n",
            "DATA TYPES: \n",
            " Timestamp       object\n",
            "Temperature    float64\n",
            "Distance       float64\n",
            "SiteId           int64\n",
            "dtype: object \n",
            "\n",
            "DATAFRAME DESCRIBE: \n",
            " \n",
            "                         Timestamp   Temperature      Distance        SiteId\n",
            "count                    19911985  1.991198e+07  1.991198e+07  1.991198e+07\n",
            "unique                     485984           NaN           NaN           NaN\n",
            "top     2016-10-29T22:00:00-04:00           NaN           NaN           NaN\n",
            "freq                          543           NaN           NaN           NaN\n",
            "mean                          NaN  1.526614e+01  1.607478e+01  1.668125e+02\n",
            "std                           NaN  8.191821e+00  8.585157e+00  9.611337e+01\n",
            "min                           NaN -2.630000e+01  3.895802e-01  1.000000e+00\n",
            "25%                           NaN  9.400000e+00  7.648476e+00  8.600000e+01\n",
            "50%                           NaN  1.500000e+01  1.638792e+01  1.690000e+02\n",
            "75%                           NaN  2.100000e+01  2.388384e+01  2.620000e+02\n",
            "max                           NaN  4.600000e+01  2.997784e+01  3.040000e+02 \n",
            "\n",
            "UNIQUE VALUES:\n",
            "Timestamp 485984\n",
            "Temperature 693\n",
            "Distance 531\n",
            "SiteId 247\n",
            "\n",
            "\n",
            "VARIABLE CATEGORIES: \n",
            "\n",
            "Timestamp :  Categorical\n",
            "Temperature :  Numerical\n",
            "Distance :  Numerical\n",
            "SiteId :  Numerical\n",
            "None\n"
          ],
          "name": "stdout"
        }
      ]
    },
    {
      "metadata": {
        "id": "XdxFLZBb3Rvy",
        "colab_type": "code",
        "outputId": "c303aebe-0635-4bc8-fcb8-f3d7166b956c",
        "colab": {
          "base_uri": "https://localhost:8080/",
          "height": 286
        }
      },
      "cell_type": "code",
      "source": [
        "corr2 = weather.corr()                            # correlation between ALL variables \n",
        "sns.heatmap(corr2, cmap='bwr')"
      ],
      "execution_count": 0,
      "outputs": [
        {
          "output_type": "execute_result",
          "data": {
            "text/plain": [
              "<matplotlib.axes._subplots.AxesSubplot at 0x7f87c58afc88>"
            ]
          },
          "metadata": {
            "tags": []
          },
          "execution_count": 32
        },
        {
          "output_type": "display_data",
          "data": {
            "image/png": "[encoded data removed]",
            "text/plain": [
              "<Figure size 432x288 with 2 Axes>"
            ]
          },
          "metadata": {
            "tags": []
          }
        }
      ]
    },
    {
      "metadata": {
        "id": "fVynhIcOl7Q-",
        "colab_type": "code",
        "colab": {}
      },
      "cell_type": "code",
      "source": [
        "# Variables\n",
        "weather_distance = weather[['Distance']]\n",
        "weather_temp = weather[['Temperature']]\n",
        "training_data_value = training_data[['Value']]\n",
        "training_data_ts = training_data[['Timestamp']]\n",
        "metadata_basetemp = metadata[['BaseTemperature']]\n",
        "metadata_surface = metadata[['Surface']]"
      ],
      "execution_count": 0,
      "outputs": []
    },
    {
      "metadata": {
        "id": "o4Rta6CJ_qiN",
        "colab_type": "code",
        "outputId": "0f77fa1c-e1e5-49aa-c07c-bb093ebea7ef",
        "colab": {
          "base_uri": "https://localhost:8080/",
          "height": 282
        }
      },
      "cell_type": "code",
      "source": [
        "plt.plot(metadata_basetemp)\n",
        "plt.plot(metadata_surface)"
      ],
      "execution_count": 0,
      "outputs": [
        {
          "output_type": "execute_result",
          "data": {
            "text/plain": [
              "[<matplotlib.lines.Line2D at 0x7f8786e83f28>]"
            ]
          },
          "metadata": {
            "tags": []
          },
          "execution_count": 34
        },
        {
          "output_type": "display_data",
          "data": {
            "image/png": "[encoded data removed]",
            "text/plain": [
              "<Figure size 432x288 with 1 Axes>"
            ]
          },
          "metadata": {
            "tags": []
          }
        }
      ]
    }
  ]
}